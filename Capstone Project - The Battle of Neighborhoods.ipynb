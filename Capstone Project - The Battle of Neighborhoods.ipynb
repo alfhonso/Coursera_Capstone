{
 "cells": [
  {
   "cell_type": "markdown",
   "metadata": {},
   "source": [
    "# Capstone Project - The Battle of Neighborhoods\n",
    "### Applied Data Science Capstone by Alfonso Lopez"
   ]
  },
  {
   "cell_type": "markdown",
   "metadata": {},
   "source": [
    "## Table of contents\n",
    "* [Introduction: Business Problem](#introduction)\n",
    "* [Data](#data)\n",
    "* [Methodology](#methodology)\n",
    "* [Analysis](#analysis)\n",
    "* [Results and Discussion](#results)\n",
    "* [Conclusion](#conclusion)"
   ]
  },
  {
   "cell_type": "markdown",
   "metadata": {},
   "source": [
    "## Introduction: Business Problem <a name=\"introduction\"></a>"
   ]
  },
  {
   "cell_type": "markdown",
   "metadata": {},
   "source": [
    "The **West Stationery Company** (WSC) is expanding their business to the east of USA. During last three years, but it has not been as successful as expected. So, WSC have decided to open at the same time **3 new WSC Stationery Stores** at New York, with the main goal of revert this situation by start having enough presence in one of the most relevant cities of the World.\n",
    "\n",
    "To support this decision and to select the best neighborhoods for the new stores, WSC has hired us as Data Scientist experts.\n",
    "\n",
    "WSC has defined this project as ***\"The Knowledge Triangle\"*** (TKT as secret key inside the company) and many of their resources will focus on it. \n",
    "\n",
    "This solution will not be easy. The company has given us the following notes (that won't help in the problem resolution):\n",
    "\n",
    "* WSC has no experience nor information about its market at NY City. Inside the company, there aren't relevant information that could be used. So, the project can be considered as an empty bottle to be filled.\n",
    "* The renting price of commercial premises at New York is probable the highest of USA. So, the investment must be done with special care.\n",
    "* There is a short time to finish the work as the opening is expected by **September, the 1st 2019**.\n",
    "* As there will be only three stores at the beginning, WSC wants not only the best places, but also, they will be more or less geographically distributed at NY City.\n",
    "***\n",
    "With these bare facts, our Data Scientist Team must work in achieving:"
   ]
  },
  {
   "cell_type": "markdown",
   "metadata": {},
   "source": [
    "\n",
    "#### <center>The best 3 neighborhoods for opening the new WSC Stationery Stores</center>"
   ]
  },
  {
   "cell_type": "markdown",
   "metadata": {},
   "source": [
    "## Data <a name=\"data\"></a>"
   ]
  },
  {
   "cell_type": "markdown",
   "metadata": {},
   "source": [
    "Based on definition of our problem, these are the factor that mainly will influence our decission (which neighbors are better for the new stores):\n",
    "\n",
    "##### Negative influcence:\n",
    "* Number of stationery shops and bookstore in the neighborhood.\n",
    "\n",
    "##### Possitive incluence:\n",
    "* Number of schools or universities.\n",
    "* Number of other education institutions.\n",
    "* Population.\n",
    "\n",
    "##### Additional considerations:\n",
    "* Distance among selected neighborhoods.\n",
    "\n",
    "### Data Sources\n",
    "We will use the following data sources for the project:\n",
    "1. **Geographic Information:** From library ***geopy.geocoders*** we'll obtaing any geographical coordinate from an address. We'll be able to locate New York city (to represent it with the related map). Also, address from venues (FourSquare) we'll help us in selecting the best position for the new WSC stores.\n",
    "<br>\n",
    "2. **Neighborhoods:** From \n",
    "https://geo.nyu.edu/download/file/nyu-2451-34572-geojson.json, we'll take all neighborhood coordinates. At the beginning, we won't exclude any value. This coordinates will partition the city in enough small regions to allow a valid study. We cannot select the exact renting premise, but we can focus WSC infrastructure deparment in the right neighborhood.\n",
    "<br>\n",
    "3. **Population**: https://data.cityofnewyork.us/api/views/swpk-hqdp/files/88f17212-6c85-4e35-97ee-31f55fa81286?download=true&filename=New_York_City_Population_By_Neighborhood_Tabulation_Areas.xlsx, we'll obtain the populatino by neighborhood area. As we want a relevant impact from the beginning, it's important start in a very populated area.\n",
    "<br>\n",
    "4. **Venues:** From https://www.foursquare.com API, we'll select all related educational centers for each neighborhood. Also, we will detect existing stationery stores and bookstores that will condition the sales for the new WSC stores.\n",
    "<br>"
   ]
  }
 ],
 "metadata": {
  "kernelspec": {
   "display_name": "Python 3",
   "language": "python",
   "name": "python3"
  },
  "language_info": {
   "codemirror_mode": {
    "name": "ipython",
    "version": 3
   },
   "file_extension": ".py",
   "mimetype": "text/x-python",
   "name": "python",
   "nbconvert_exporter": "python",
   "pygments_lexer": "ipython3",
   "version": "3.7.1"
  }
 },
 "nbformat": 4,
 "nbformat_minor": 2
}
